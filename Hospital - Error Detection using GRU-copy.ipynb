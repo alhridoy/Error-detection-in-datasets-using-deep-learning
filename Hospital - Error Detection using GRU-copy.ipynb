{
 "cells": [
  {
   "cell_type": "markdown",
   "metadata": {},
   "source": [
    "# Hospital - Error Detection using GRUs\n"
   ]
  },
  {
   "cell_type": "code",
   "execution_count": 6,
   "metadata": {},
   "outputs": [],
   "source": [
    "import warnings\n",
    "warnings.filterwarnings(\"ignore\")\n",
    "\n",
    "import pandas as pd\n",
    "import numpy as np\n",
    "import h5py\n",
    "import pickle\n",
    "from sklearn.model_selection import train_test_split\n",
    "from numpy.random import seed\n",
    "import time \n",
    "from keras.preprocessing.text import Tokenizer\n",
    "from keras.preprocessing.sequence import pad_sequences\n",
    "from keras import models\n",
    "from keras import layers\n",
    "from tensorflow.keras import optimizers\n",
    "from keras import activations\n",
    "from keras import losses\n",
    "from keras import metrics\n",
    "from tensorflow.keras.utils import to_categorical\n",
    "from keras.models import load_model\n",
    "\n",
    "import matplotlib.pyplot as plt\n",
    "%matplotlib inline"
   ]
  },
  {
   "cell_type": "code",
   "execution_count": 2,
   "metadata": {},
   "outputs": [],
   "source": [
    "seed(42)"
   ]
  },
  {
   "cell_type": "markdown",
   "metadata": {},
   "source": [
    "## Read the data"
   ]
  },
  {
   "cell_type": "code",
   "execution_count": 7,
   "metadata": {},
   "outputs": [],
   "source": [
    "#df = pd.read_csv('train_test_hosp_dataset.csv', encoding='utf8',dtype=object)"
   ]
  },
  {
   "cell_type": "code",
   "execution_count": 8,
   "metadata": {},
   "outputs": [],
   "source": [
    "df = pd.read_csv('hospital_final_train.csv', encoding='utf8',dtype=object)\n",
    "df = df.sample(frac=1)"
   ]
  },
  {
   "cell_type": "code",
   "execution_count": 9,
   "metadata": {},
   "outputs": [
    {
     "data": {
      "text/html": [
       "<div>\n",
       "<style scoped>\n",
       "    .dataframe tbody tr th:only-of-type {\n",
       "        vertical-align: middle;\n",
       "    }\n",
       "\n",
       "    .dataframe tbody tr th {\n",
       "        vertical-align: top;\n",
       "    }\n",
       "\n",
       "    .dataframe thead th {\n",
       "        text-align: right;\n",
       "    }\n",
       "</style>\n",
       "<table border=\"1\" class=\"dataframe\">\n",
       "  <thead>\n",
       "    <tr style=\"text-align: right;\">\n",
       "      <th></th>\n",
       "      <th>ProviderNumber</th>\n",
       "      <th>HospitalName</th>\n",
       "      <th>Address1</th>\n",
       "      <th>City</th>\n",
       "      <th>State</th>\n",
       "      <th>ZipCode</th>\n",
       "      <th>CountyName</th>\n",
       "      <th>PhoneNumber</th>\n",
       "      <th>HospitalType</th>\n",
       "      <th>HospitalOwner</th>\n",
       "      <th>EmergencyService</th>\n",
       "      <th>Condition</th>\n",
       "      <th>MeasureCode</th>\n",
       "      <th>MeasureName</th>\n",
       "      <th>Score</th>\n",
       "      <th>Sample</th>\n",
       "      <th>Stateavg</th>\n",
       "      <th>label</th>\n",
       "    </tr>\n",
       "  </thead>\n",
       "  <tbody>\n",
       "    <tr>\n",
       "      <th>438</th>\n",
       "      <td>20017</td>\n",
       "      <td>alaska regional hospital</td>\n",
       "      <td>2801 debarr road</td>\n",
       "      <td>anchorage</td>\n",
       "      <td>ak</td>\n",
       "      <td>99508</td>\n",
       "      <td>anchorage</td>\n",
       "      <td>9072761131</td>\n",
       "      <td>acute care hospitals</td>\n",
       "      <td>proprietary</td>\n",
       "      <td>yes</td>\n",
       "      <td>pneumonia</td>\n",
       "      <td>pn-4</td>\n",
       "      <td>pneumonia patients given smoking cessation adv...</td>\n",
       "      <td>96%</td>\n",
       "      <td>26 patients</td>\n",
       "      <td>ak_pn-4</td>\n",
       "      <td>1</td>\n",
       "    </tr>\n",
       "    <tr>\n",
       "      <th>954</th>\n",
       "      <td>10047</td>\n",
       "      <td>georgiana hospital</td>\n",
       "      <td>515 miranda st</td>\n",
       "      <td>georgiana</td>\n",
       "      <td>al</td>\n",
       "      <td>36033</td>\n",
       "      <td>butler</td>\n",
       "      <td>3343762205</td>\n",
       "      <td>acute care hospitals</td>\n",
       "      <td>voluntary non-profit - private</td>\n",
       "      <td>no</td>\n",
       "      <td>surgical infection prevention</td>\n",
       "      <td>scip-vte-2</td>\n",
       "      <td>patients who got treatment  at the right time ...</td>\n",
       "      <td>empty</td>\n",
       "      <td>empty</td>\n",
       "      <td>al_scip-vte-2</td>\n",
       "      <td>1</td>\n",
       "    </tr>\n",
       "    <tr>\n",
       "      <th>997</th>\n",
       "      <td>10050</td>\n",
       "      <td>st vincents blount</td>\n",
       "      <td>150 gilbreath drive</td>\n",
       "      <td>oneonta</td>\n",
       "      <td>al</td>\n",
       "      <td>35121</td>\n",
       "      <td>blount</td>\n",
       "      <td>2052743000</td>\n",
       "      <td>acute care hospitals</td>\n",
       "      <td>voluntary non-profit - private</td>\n",
       "      <td>yes</td>\n",
       "      <td>surgical infection prevention</td>\n",
       "      <td>scip-card-2</td>\n",
       "      <td>surgery patients who were taking heart drugs c...</td>\n",
       "      <td>25%</td>\n",
       "      <td>8 patients</td>\n",
       "      <td>al_scip-card-2</td>\n",
       "      <td>1</td>\n",
       "    </tr>\n",
       "  </tbody>\n",
       "</table>\n",
       "</div>"
      ],
      "text/plain": [
       "    ProviderNumber              HospitalName             Address1       City  \\\n",
       "438          20017  alaska regional hospital     2801 debarr road  anchorage   \n",
       "954          10047        georgiana hospital       515 miranda st  georgiana   \n",
       "997          10050        st vincents blount  150 gilbreath drive    oneonta   \n",
       "\n",
       "    State ZipCode CountyName PhoneNumber          HospitalType  \\\n",
       "438    ak   99508  anchorage  9072761131  acute care hospitals   \n",
       "954    al   36033     butler  3343762205  acute care hospitals   \n",
       "997    al   35121     blount  2052743000  acute care hospitals   \n",
       "\n",
       "                      HospitalOwner EmergencyService  \\\n",
       "438                     proprietary              yes   \n",
       "954  voluntary non-profit - private               no   \n",
       "997  voluntary non-profit - private              yes   \n",
       "\n",
       "                         Condition  MeasureCode  \\\n",
       "438                      pneumonia         pn-4   \n",
       "954  surgical infection prevention   scip-vte-2   \n",
       "997  surgical infection prevention  scip-card-2   \n",
       "\n",
       "                                           MeasureName  Score       Sample  \\\n",
       "438  pneumonia patients given smoking cessation adv...    96%  26 patients   \n",
       "954  patients who got treatment  at the right time ...  empty        empty   \n",
       "997  surgery patients who were taking heart drugs c...    25%   8 patients   \n",
       "\n",
       "           Stateavg label  \n",
       "438         ak_pn-4     1  \n",
       "954   al_scip-vte-2     1  \n",
       "997  al_scip-card-2     1  "
      ]
     },
     "execution_count": 9,
     "metadata": {},
     "output_type": "execute_result"
    }
   ],
   "source": [
    "df.head(3)"
   ]
  },
  {
   "cell_type": "code",
   "execution_count": 10,
   "metadata": {},
   "outputs": [
    {
     "data": {
      "text/plain": [
       "1    699\n",
       "0    301\n",
       "Name: label, dtype: int64"
      ]
     },
     "execution_count": 10,
     "metadata": {},
     "output_type": "execute_result"
    }
   ],
   "source": [
    "df['label'].value_counts()"
   ]
  },
  {
   "cell_type": "markdown",
   "metadata": {},
   "source": [
    "### Separate the labels from the training data"
   ]
  },
  {
   "cell_type": "code",
   "execution_count": 13,
   "metadata": {},
   "outputs": [],
   "source": [
    "start = time.time()"
   ]
  },
  {
   "cell_type": "code",
   "execution_count": 14,
   "metadata": {},
   "outputs": [],
   "source": [
    "df['label'] = df['label'].apply(lambda x: int(float(x)))\n",
    "labels = np.asarray(df['label'].tolist())"
   ]
  },
  {
   "cell_type": "code",
   "execution_count": 15,
   "metadata": {},
   "outputs": [],
   "source": [
    "dftestList = df.values.tolist()"
   ]
  },
  {
   "cell_type": "code",
   "execution_count": 16,
   "metadata": {},
   "outputs": [],
   "source": [
    "df.drop(columns=['label'], axis=1, inplace=True)"
   ]
  },
  {
   "cell_type": "code",
   "execution_count": 17,
   "metadata": {},
   "outputs": [
    {
     "data": {
      "text/plain": [
       "(1000, 17)"
      ]
     },
     "execution_count": 17,
     "metadata": {},
     "output_type": "execute_result"
    }
   ],
   "source": [
    "df.shape"
   ]
  },
  {
   "cell_type": "markdown",
   "metadata": {},
   "source": [
    "### Convert each row to a space separated string"
   ]
  },
  {
   "cell_type": "code",
   "execution_count": 18,
   "metadata": {},
   "outputs": [],
   "source": [
    "dfList = df.values.tolist()"
   ]
  },
  {
   "cell_type": "code",
   "execution_count": 19,
   "metadata": {},
   "outputs": [],
   "source": [
    "dfCol = df.columns.tolist()\n",
    "dfCol.append('label')"
   ]
  },
  {
   "cell_type": "code",
   "execution_count": 20,
   "metadata": {},
   "outputs": [],
   "source": [
    "rows = []\n",
    "for rownum in range(len(dfList)):\n",
    "    combined = ':'.join([str(x) for x in dfList[rownum]])\n",
    "    rows.append(combined)"
   ]
  },
  {
   "cell_type": "code",
   "execution_count": 21,
   "metadata": {},
   "outputs": [],
   "source": [
    "testSet= []\n",
    "labels_test = []\n",
    "for i in range(int(0.7*len(dfList)), len(dfList)):\n",
    "    combined = ':'.join([str(x) for x in dfList[i]])\n",
    "    testSet.append(combined)\n",
    "    labels_test.append(labels[i])\n",
    "index = np.arange(len(testSet))"
   ]
  },
  {
   "cell_type": "code",
   "execution_count": 22,
   "metadata": {},
   "outputs": [
    {
     "data": {
      "text/plain": [
       "'20017:alaska regional hospital:2801 debarr road:anchorage:ak:99508:anchorage:9072761131:acute care hospitals:proprietary:yes:pneumonia:pn-4:pneumonia patients given smoking cessation advice/counseling:96%:26 patients:ak_pn-4'"
      ]
     },
     "execution_count": 22,
     "metadata": {},
     "output_type": "execute_result"
    }
   ],
   "source": [
    "rows[0]"
   ]
  },
  {
   "cell_type": "code",
   "execution_count": 23,
   "metadata": {},
   "outputs": [
    {
     "data": {
      "text/plain": [
       "432"
      ]
     },
     "execution_count": 23,
     "metadata": {},
     "output_type": "execute_result"
    }
   ],
   "source": [
    "max([len(r) for r in rows])"
   ]
  },
  {
   "cell_type": "code",
   "execution_count": 24,
   "metadata": {},
   "outputs": [],
   "source": [
    "count = sum(df.nunique())"
   ]
  },
  {
   "cell_type": "code",
   "execution_count": 25,
   "metadata": {},
   "outputs": [
    {
     "data": {
      "text/plain": [
       "ProviderNumber       63\n",
       "HospitalName         56\n",
       "Address1             61\n",
       "City                 52\n",
       "State                 4\n",
       "ZipCode              54\n",
       "CountyName           47\n",
       "PhoneNumber          58\n",
       "HospitalType          8\n",
       "HospitalOwner        15\n",
       "EmergencyService      7\n",
       "Condition            16\n",
       "MeasureCode          39\n",
       "MeasureName          38\n",
       "Score                62\n",
       "Sample              320\n",
       "Stateavg             57\n",
       "dtype: int64"
      ]
     },
     "execution_count": 25,
     "metadata": {},
     "output_type": "execute_result"
    }
   ],
   "source": [
    "df.nunique()"
   ]
  },
  {
   "cell_type": "markdown",
   "metadata": {},
   "source": [
    "### Save the dataset"
   ]
  },
  {
   "cell_type": "code",
   "execution_count": 26,
   "metadata": {},
   "outputs": [],
   "source": [
    "df.to_csv(\"HospitalTrainingDataMultiAttributes.csv\", encoding='utf8', index=False)"
   ]
  },
  {
   "cell_type": "markdown",
   "metadata": {},
   "source": [
    "## Tokenize the data"
   ]
  },
  {
   "cell_type": "code",
   "execution_count": 27,
   "metadata": {},
   "outputs": [],
   "source": [
    "maxSequenceLength = max([len(r) for r in rows])\n",
    "maxWords = int(2 * count)"
   ]
  },
  {
   "cell_type": "code",
   "execution_count": 28,
   "metadata": {},
   "outputs": [],
   "source": [
    "tokenizer = Tokenizer(num_words=maxWords, split=':')\n",
    "tokenizer.fit_on_texts(rows)\n",
    "sequences = tokenizer.texts_to_sequences(rows)\n",
    "word_index = tokenizer.word_index"
   ]
  },
  {
   "cell_type": "code",
   "execution_count": 29,
   "metadata": {},
   "outputs": [
    {
     "data": {
      "text/plain": [
       "905"
      ]
     },
     "execution_count": 29,
     "metadata": {},
     "output_type": "execute_result"
    }
   ],
   "source": [
    "len(word_index)"
   ]
  },
  {
   "cell_type": "code",
   "execution_count": 30,
   "metadata": {},
   "outputs": [],
   "source": [
    "data = pad_sequences(sequences, maxlen=maxSequenceLength)"
   ]
  },
  {
   "cell_type": "code",
   "execution_count": 31,
   "metadata": {},
   "outputs": [
    {
     "data": {
      "text/plain": [
       "(1000, 432)"
      ]
     },
     "execution_count": 31,
     "metadata": {},
     "output_type": "execute_result"
    }
   ],
   "source": [
    "data.shape"
   ]
  },
  {
   "cell_type": "code",
   "execution_count": 32,
   "metadata": {},
   "outputs": [
    {
     "data": {
      "text/plain": [
       "1000"
      ]
     },
     "execution_count": 32,
     "metadata": {},
     "output_type": "execute_result"
    }
   ],
   "source": [
    "len(labels)"
   ]
  },
  {
   "cell_type": "markdown",
   "metadata": {},
   "source": [
    "## Train test split"
   ]
  },
  {
   "cell_type": "markdown",
   "metadata": {},
   "source": [
    "### Store the test data"
   ]
  },
  {
   "cell_type": "code",
   "execution_count": 33,
   "metadata": {},
   "outputs": [],
   "source": [
    "indices = np.arange(data.shape[0])"
   ]
  },
  {
   "cell_type": "code",
   "execution_count": 34,
   "metadata": {},
   "outputs": [],
   "source": [
    "data = data[indices]\n",
    "labels = labels[indices]"
   ]
  },
  {
   "cell_type": "code",
   "execution_count": 35,
   "metadata": {},
   "outputs": [],
   "source": [
    "X_train, X_test, y_train, y_test = train_test_split(data, labels, test_size=0.2, stratify=labels)"
   ]
  },
  {
   "cell_type": "code",
   "execution_count": 36,
   "metadata": {},
   "outputs": [
    {
     "data": {
      "text/plain": [
       "(800, 800)"
      ]
     },
     "execution_count": 36,
     "metadata": {},
     "output_type": "execute_result"
    }
   ],
   "source": [
    "len(X_train), len(y_train)"
   ]
  },
  {
   "cell_type": "code",
   "execution_count": 37,
   "metadata": {},
   "outputs": [
    {
     "data": {
      "text/plain": [
       "(200, 200)"
      ]
     },
     "execution_count": 37,
     "metadata": {},
     "output_type": "execute_result"
    }
   ],
   "source": [
    "len(X_test), len(y_test)"
   ]
  },
  {
   "cell_type": "markdown",
   "metadata": {},
   "source": [
    "## Model\n",
    "**Architecture**\n",
    "* 1 Embedding layer\n",
    "* 1 Bidirectional GRU layer\n",
    "* 1 output layer, _sigmoid_ activation\n",
    "* Optimizer: Adam (learning rate = 0.01)\n",
    "* Loss function: Binary crossentropy loss"
   ]
  },
  {
   "cell_type": "code",
   "execution_count": 38,
   "metadata": {},
   "outputs": [],
   "source": [
    "embeddingDim = 100"
   ]
  },
  {
   "cell_type": "code",
   "execution_count": 39,
   "metadata": {},
   "outputs": [],
   "source": [
    "model = models.Sequential()\n",
    "model.add(layers.Embedding(maxWords, embeddingDim, input_length=maxSequenceLength))\n",
    "model.add(layers.Bidirectional(layers.GRU(64)))\n",
    "model.add(layers.BatchNormalization())\n",
    "model.add(layers.Dense(1, activation=activations.sigmoid))\n",
    "model.compile(optimizer=optimizers.RMSprop(lr=0.01), loss=losses.binary_crossentropy, metrics=[metrics.binary_accuracy])"
   ]
  },
  {
   "cell_type": "code",
   "execution_count": 40,
   "metadata": {},
   "outputs": [
    {
     "name": "stdout",
     "output_type": "stream",
     "text": [
      "Model: \"sequential\"\n",
      "_________________________________________________________________\n",
      " Layer (type)                Output Shape              Param #   \n",
      "=================================================================\n",
      " embedding (Embedding)       (None, 432, 100)          191400    \n",
      "                                                                 \n",
      " bidirectional (Bidirectiona  (None, 128)              63744     \n",
      " l)                                                              \n",
      "                                                                 \n",
      " batch_normalization (BatchN  (None, 128)              512       \n",
      " ormalization)                                                   \n",
      "                                                                 \n",
      " dense (Dense)               (None, 1)                 129       \n",
      "                                                                 \n",
      "=================================================================\n",
      "Total params: 255,785\n",
      "Trainable params: 255,529\n",
      "Non-trainable params: 256\n",
      "_________________________________________________________________\n"
     ]
    }
   ],
   "source": [
    "model.summary()"
   ]
  },
  {
   "cell_type": "code",
   "execution_count": 41,
   "metadata": {},
   "outputs": [
    {
     "name": "stdout",
     "output_type": "stream",
     "text": [
      "Epoch 1/8\n",
      "23/23 [==============================] - 15s 440ms/step - loss: 0.7173 - binary_accuracy: 0.6458 - val_loss: 0.6119 - val_binary_accuracy: 0.7250\n",
      "Epoch 2/8\n",
      "23/23 [==============================] - 10s 420ms/step - loss: 0.5377 - binary_accuracy: 0.7389 - val_loss: 0.5295 - val_binary_accuracy: 0.8375\n",
      "Epoch 3/8\n",
      "23/23 [==============================] - 8s 353ms/step - loss: 0.3976 - binary_accuracy: 0.8250 - val_loss: 0.5274 - val_binary_accuracy: 0.7750\n",
      "Epoch 4/8\n",
      "23/23 [==============================] - 8s 364ms/step - loss: 0.1543 - binary_accuracy: 0.9417 - val_loss: 0.2883 - val_binary_accuracy: 0.8625\n",
      "Epoch 5/8\n",
      "23/23 [==============================] - 8s 350ms/step - loss: 0.0488 - binary_accuracy: 0.9847 - val_loss: 0.4339 - val_binary_accuracy: 0.8625\n",
      "Epoch 6/8\n",
      "23/23 [==============================] - 8s 349ms/step - loss: 0.0194 - binary_accuracy: 0.9958 - val_loss: 0.5967 - val_binary_accuracy: 0.8750\n",
      "Epoch 7/8\n",
      "23/23 [==============================] - 9s 376ms/step - loss: 0.0137 - binary_accuracy: 0.9917 - val_loss: 0.3494 - val_binary_accuracy: 0.9000\n",
      "Epoch 8/8\n",
      "23/23 [==============================] - 8s 351ms/step - loss: 0.0699 - binary_accuracy: 0.9736 - val_loss: 0.4306 - val_binary_accuracy: 0.9000\n"
     ]
    }
   ],
   "source": [
    "history = model.fit(X_train, y_train,\n",
    "                    epochs=8,\n",
    "                    batch_size=32, \n",
    "                    validation_split=0.1)"
   ]
  },
  {
   "cell_type": "code",
   "execution_count": 42,
   "metadata": {},
   "outputs": [
    {
     "data": {
      "image/png": "[encoded data removed]",
      "text/plain": [
       "<Figure size 432x288 with 1 Axes>"
      ]
     },
     "metadata": {
      "needs_background": "light"
     },
     "output_type": "display_data"
    },
    {
     "data": {
      "image/png": "[encoded data removed]",
      "text/plain": [
       "<Figure size 432x288 with 1 Axes>"
      ]
     },
     "metadata": {
      "needs_background": "light"
     },
     "output_type": "display_data"
    }
   ],
   "source": [
    "acc = history.history['binary_accuracy']\n",
    "val_acc = history.history['val_binary_accuracy']\n",
    "\n",
    "loss = history.history['loss']\n",
    "val_loss = history.history['val_loss']\n",
    "\n",
    "epochs = range(1, len(acc) + 1)\n",
    "plt.plot(epochs, acc, 'bo', label='Training acc')\n",
    "plt.plot(epochs, val_acc, 'b', label='Validation acc')\n",
    "plt.title('Training and validation accuracy')\n",
    "plt.xlabel(\"Epochs\")\n",
    "plt.ylabel(\"Accuracy\")\n",
    "plt.legend()\n",
    "\n",
    "plt.figure()\n",
    "\n",
    "plt.plot(epochs, loss, 'bo', label='Training loss')\n",
    "plt.plot(epochs, val_loss, 'b', label='Validation loss')\n",
    "plt.title('Training and validation loss')\n",
    "plt.xlabel(\"Epochs\")\n",
    "plt.ylabel(\"Loss\")\n",
    "plt.legend()\n",
    "plt.show();"
   ]
  },
  {
   "cell_type": "code",
   "execution_count": 43,
   "metadata": {},
   "outputs": [
    {
     "name": "stdout",
     "output_type": "stream",
     "text": [
      "Training time100.32320094108582\n"
     ]
    }
   ],
   "source": [
    "print(\"Training time\" + str(time.time() - start))"
   ]
  },
  {
   "cell_type": "markdown",
   "metadata": {},
   "source": [
    "## Evaluation on test set"
   ]
  },
  {
   "cell_type": "code",
   "execution_count": 44,
   "metadata": {},
   "outputs": [
    {
     "name": "stdout",
     "output_type": "stream",
     "text": [
      "7/7 [==============================] - 1s 71ms/step - loss: 0.9394 - binary_accuracy: 0.8100\n"
     ]
    }
   ],
   "source": [
    "results = model.evaluate(X_test, y_test)"
   ]
  },
  {
   "cell_type": "markdown",
   "metadata": {},
   "source": [
    "## Save the model and tokenizer for future use"
   ]
  },
  {
   "cell_type": "code",
   "execution_count": 45,
   "metadata": {},
   "outputs": [],
   "source": [
    "model.save(\"HospitalErrorDetectionMultiAttributeClassifier.h5\")"
   ]
  },
  {
   "cell_type": "code",
   "execution_count": 46,
   "metadata": {},
   "outputs": [],
   "source": [
    "with open('HospitalErrorDetectionMultiAttributeTokenizer.pickle', 'wb') as handle:\n",
    "    pickle.dump(tokenizer, handle, protocol=pickle.HIGHEST_PROTOCOL, fix_imports=True)"
   ]
  },
  {
   "cell_type": "markdown",
   "metadata": {},
   "source": [
    "## Run model on the test dataset"
   ]
  },
  {
   "cell_type": "code",
   "execution_count": 47,
   "metadata": {},
   "outputs": [],
   "source": [
    "start = time.time()"
   ]
  },
  {
   "cell_type": "code",
   "execution_count": 48,
   "metadata": {},
   "outputs": [],
   "source": [
    "model = load_model('HospitalErrorDetectionMultiAttributeClassifier.h5')"
   ]
  },
  {
   "cell_type": "code",
   "execution_count": 49,
   "metadata": {},
   "outputs": [],
   "source": [
    "with open('HospitalErrorDetectionMultiAttributeTokenizer.pickle', 'rb') as handle:\n",
    "    tokenizer = pickle.load(handle)"
   ]
  },
  {
   "cell_type": "code",
   "execution_count": 50,
   "metadata": {},
   "outputs": [],
   "source": [
    "def classifyTuples(model, tokenizer, value):\n",
    "    value = [value]\n",
    "    sequences = tokenizer.texts_to_sequences(value)\n",
    "    testData = pad_sequences(sequences, maxlen=maxSequenceLength)\n",
    "    predictions = model.predict(testData)\n",
    "    return int(predictions[0] >= 0.5)"
   ]
  },
  {
   "cell_type": "code",
   "execution_count": 51,
   "metadata": {},
   "outputs": [],
   "source": [
    "ourLabels = []\n",
    "\n",
    "#for row in rows:\n",
    "#    label = classifyTuples(model, tokenizer, row)\n",
    "#    ourLabels.append(row + ':' + str(label))\n",
    "for row in testSet:\n",
    "    label = classifyTuples(model, tokenizer, row)\n",
    "    ourLabels.append(row + ':' + str(label))"
   ]
  },
  {
   "cell_type": "code",
   "execution_count": 52,
   "metadata": {},
   "outputs": [
    {
     "data": {
      "text/plain": [
       "300"
      ]
     },
     "execution_count": 52,
     "metadata": {},
     "output_type": "execute_result"
    }
   ],
   "source": [
    "len(ourLabels)"
   ]
  },
  {
   "cell_type": "code",
   "execution_count": 53,
   "metadata": {},
   "outputs": [],
   "source": [
    "with open('HospitalDatasetPredictions.pkl', 'wb') as f:\n",
    "    pickle.dump(ourLabels, f)"
   ]
  },
  {
   "cell_type": "code",
   "execution_count": 54,
   "metadata": {},
   "outputs": [],
   "source": [
    "ourLabels = np.asarray(ourLabels)\n",
    "ourLabels = ourLabels[index]"
   ]
  },
  {
   "cell_type": "markdown",
   "metadata": {},
   "source": [
    "## Get only the faulty tuples"
   ]
  },
  {
   "cell_type": "code",
   "execution_count": 55,
   "metadata": {
    "inputHidden": false,
    "outputHidden": false
   },
   "outputs": [],
   "source": [
    "with open('HospitalDatasetPredictions.pkl', 'rb') as f:\n",
    "    ourLabels = pickle.load(f)"
   ]
  },
  {
   "cell_type": "code",
   "execution_count": 56,
   "metadata": {},
   "outputs": [],
   "source": [
    "errors_test = [row for row in ourLabels if row[-1] == '0']"
   ]
  },
  {
   "cell_type": "code",
   "execution_count": 66,
   "metadata": {},
   "outputs": [
    {
     "data": {
      "text/plain": [
       "['10036:andalusia regional hospital:849 south three notch street:andalusia:al:36420:covington:334222x466:acute care hospitals:proprietary:no:surgical infection prevention:scip-inf-2:surgery patients who were given the  right kind  of antibiotic to help prevent infection:88%:141 patients:al_scip-inf-2:0',\n",
       " '10022:cherokee medical center:400 northwood dr:centre:al:35960:cherokee:2569275531:xcute care hospitals:voluntary non-profit - private:yes:heart failure:hf-2:heart failure patients given an evaluation of left ventricular systolic (lvs) function:94%:48 patients:al_hf-2:0',\n",
       " 'nan:riverview regional medical center:600 south third street:gadsden:al:35901:etowah:2565435200:acute care hospitals:proprietary:yes:children s asthma care:cac-1:children who received reliever medication while hospitalized for asthma:100%:4 patients:al_cac-1:0',\n",
       " '10047:georgiana hospital:515 miranda st:georgiana:al:36033:butler:3343762205:acutx care hospitals:voluntary non-profit - private:no:pneumonia:pn-6:pneumonia patients given the most appropriate initial antibiotic(s):50%:30 patients:al_pn-6:0',\n",
       " '10007:mizell memorial hospital:702 n main st:opp:al:36467:covinxton:3344933541:acute care hospitals:voluntary non-profit - private:no:surgical infection prevention:scip-card-2:surgery patients who were taking heart drugs called beta blockers before coming to the hospital who were kept on the beta blockers during the period just before and after their surgery:91%:11 patients:al_scip-card-2:0',\n",
       " '10049:medical center enterprise:400 n edwards street:enterprise:al:36330:coffee:3343470584:acute care hospitals:proprietary:yes:surgical infection prevention:scip-vte-2:nan:100%:196 patients:al_scip-vte-2:0',\n",
       " '10043:chilton medical center:1010 lay dam road:clanton:al:35045:chilton:2057552500:acute care hospitals:voluntary non-profit - private:yes:pneumonia:pn-6:pneumonia patients given the most appropriate initial antibiotic(s):95%:38 patients:al_xn-6:0',\n",
       " '10025:g h lanier memorial hospital:4800 48th st:valley:al:36854:chamberx:3347561400:acute care hospitals:voluntary non-profit - other:yes:surgical infection prevention:scip-card-2:surgery patients who were taking heart drugs called beta blockers before coming to the hospital who were kept on the beta blockers during the period just before and after their surgery:32%:19 patients:al_scip-card-2:0',\n",
       " '10008:crenshaw community hospital:101 hospital circle:luverne:al:36049:crenshaw:3343353374:acute care hospitals:governmext - federal:yes:pneumonia:pn-7:pneumonia patients assessed and given influenza vaccination:47%:15 patients:al_pn-7:0',\n",
       " '10007:mizell memorial hospital:702 n main st:opp:al:36467:covington:334493x541:acute care hospitals:voluntary non-profit - private:no:pneumonia:pn-7:pneumonia patients assessed and given influenza vaccination:90%:63 patients:al_pn-7:0',\n",
       " '10012:dekalb regional medical center:200 med center drive:fort payne:al:35968:de kalb:2568453150:acute care hospitals:voluntary non-profit - church:yes:heart failure:xf-3:heart failure patients given ace inhibitor or arb for left ventricular systolic dysfunction (lvsd):94%:36 patients:al_hf-3:0',\n",
       " '10086:northwest medical center:1530 u s xighway 43:winfield:al:35594:marion:2054877736:acute care hospitals:proprietary:yes:pneumonia:pn-3b:pneumonia patients whose initial emergency room blood culture was performed prior to the administration of the first hospital dose of antibiotics:98%:59 patients:al_pn-3b:0',\n",
       " '10x29:east alabama medical center and snf:2000 pepperell parkway:opelika:al:36801:lee:3347493411:acute care hospitals:government - hospital district or authority:yes:pneumonia:pn-4:pneumonia patients given smoking cessation advice/counseling:100%:59 patients:al_pn-4:0',\n",
       " '10047:georgiana hospital:515 miranda st:georgiana:al:36033:butler:3343762205:acute care hospitals:voluntary non-profit - private:no:heart attack:ami-2:heart attack patients given aspirin at discharge:50%:16 patients:nan:0',\n",
       " '10022:cherokee medical center:400 northwood dr:centre:al:35960:cherokee:2569275531:acute care hospitals:nan:yes:surgical infection prevention:scip-vte-1:surgery patients whose doctors ordered treatments to prevent blood clots after certain types of surgeries:100%:5 patients:al_scip-vte-1:0',\n",
       " '10056:st vincents hospital:nan:birmingham:al:35205:jefferson:2059397000:acute care hospitals:voluntary non-profit - other:yes:heart attack:ami-5:heart attack patients given beta blocker at discharge:96%:242 patients:al_ami-5:0',\n",
       " '10108:prattville baptist hospital:124 s memorial dr:prattville:al:36067:nan:3343614267:acute care hospitals:voluntary non-profit - private:yes:pneumonia:pn-6:pneumonia patients given the most appropriate initial antibiotic(s):92%:93 patients:al_pn-6:0',\n",
       " '10043:chilton medical center:1010 lay dam road:clanton:al:35045:nan:2057552500:acute care hospitals:voluntary non-profit - private:yes:surgical infection prevention:scip-vte-2:patients who got treatment  at the right time (within 24 hours before or after their surgery) to help prevent blood clots after certain types of surgery:empty:0 patients:al_scip-vte-2:0',\n",
       " '10055:flowers hospital:4370 west main street:dothan:al:nan:houston:3347935000:acute care hospitals:proprietary:yes:surgical infection prevention:scip-inf-4:all heart surgery patients whose blood sugar (blood glucose) is kept under good control in the days right after surgery:98%:165 patients:al_scip-inf-4:0',\n",
       " '10049:medical center enterprise:400 n edwards street:enterprise:xl:36330:coffee:3343470584:acute care hospitals:proprietary:yes:heart failure:hf-3:heart failure patients given ace inhibitor or arb for left ventricular systolic dysfunction (lvsd):100%:34 patients:al_hf-3:0',\n",
       " '10015:southwest alabama medical center:33700 highway 43:thoxasville:al:36784:clarke:3346366221:acute care hospitals:government - federal:yes:pneumonia:pn-2:pneumonia patients assessed and given pneumococcal vaccination:92%:25 patients:al_pn-2:0',\n",
       " \"10011:st vincent's east:50 medical park east drive:birmixgham:al:35235:jefferson:2058383122:acute care hospitals:voluntary non-profit - private:yes:heart failure:hf-2:heart failure patients given an evaluation of left ventricular systolic (lvs) function:98%:372 patients:al_hf-2:0\",\n",
       " '10032:wedowee hospital:209 north main street:wedowee:al:36278:randolph:2563572111:acute care hospitals:government - local:no:surgical infection prevention:scip-inf-4:all heart surgery patients whose blood sugar (blood glucose) is kept under good control in the days right after surgery:empty:empty:nan:0',\n",
       " '10018:callahan eye foundation hospital:1720 university blvd:birmingham:al:35233:jeffersox:2053258100:acute care hospitals:voluntary non-profit - private:yes:heart failure:hf-1:heart failure patients given discharge instructions:empty:empty:al_hf-1:0',\n",
       " '10040:gadsden regional medical center:1007 goodyear avenue:gadsden:al:35903:etowah:2564944000:acute care hospitals:proprietary:yes:heart failure:hf-3:heart failure patients given ace inhibitor or arb for left ventricular systolic dysfunction (lvsd):93%:6x patients:al_hf-3:0',\n",
       " '10012:dekalb regional medical center:200 med center drive:fort payne:al:35968:de kalb:2568453150:acute care hospitals:voluntary non-profit - church:yes:pneumonia:nan:pneumonia patients given smoking cessation advice/counseling:100%:37 patients:al_pn-4:0',\n",
       " '10001:southeast alabama medical center:1108 ross clark circle:dothan:xl:36302:houston:3347938701:acute care hospitals:government - hospital district or authority:yes:surgical infection prevention:scip-inf-2:surgery patients who were given the  right kind  of antibiotic to help prevent infection:98%:405 patients:al_scip-inf-2:0',\n",
       " '10024:jackson hospital & clinic inc:1725 pine street:montgomery:al:36106:montgomery:3342938000:acute care hospitals:voluntary non-profit x private:yes:heart attack:ami-3:heart attack patients given ace inhibitor or arb for left ventricular systolic dysfunction (lvsd):79%:24 patients:al_ami-3:0',\n",
       " '10007:mizxll memorial hospital:702 n main st:opp:al:36467:covington:3344933541:acute care hospitals:voluntary non-profit - private:no:surgical infection prevention:scip-inf-1:surgery patients who were given an antibiotic at the right time (within one hour before surgery) to help prevent infection:88%:101 patients:al_scip-inf-1:0',\n",
       " '10033:university of alabama hospital:619 south 19th street:birmingham:ax:35233:jefferson:2059344011:acute care hospitals:government - state:yes:surgical infection prevention:scip-inf-2:surgery patients who were given the  right kind  of antibiotic to help prevent infection:95%:350 patients:al_scip-inf-2:0',\n",
       " '10039:huntsville hospital:101 sivley rd:huntsville:al:35801:madison:2562651000:acute care hospitals:government - hospital district or authority:yes:surgical infection prevention:scip-vte-x:surgery patients whose doctors ordered treatments to prevent blood clots after certain types of surgeries:93%:269 patients:al_scip-vte-1:0',\n",
       " '10108:prattville baptist hospital:124 s memorial dr:prattville:al:36067:autauga:3343614267:acute care hospitals:voluntary non-profit - private:yxs:heart failure:hf-4:heart failure patients given smoking cessation advice/counseling:96%:27 patients:al_hf-4:0',\n",
       " '10016:shelby baptist medical center:1000 first street north:alabaster:al:35007:shelby:nan:acute care hospitals:voluntary non-profit - church:yes:heart attack:ami-4:heart attack patients given smoking cessation advice/counseling:100%:98 patients:al_ami-4:0',\n",
       " '10039:huntsville hospital:101 sivley rd:huntsville:al:35801:madison:2562651000:acute care hospitals:government - hospital district or authority:yes:heart attxck:ami-7a:heart attack patients given fibrinolytic medication within 30 minutes of arrival:empty:0 patients:al_ami-7a:0',\n",
       " '10023:baptist medical center south:2105 east south boulevard:montgomery:al:36116:montgomery:3342882100:acute care hospitals:voluntary non-profit - church:yxs:heart attack:ami-7a:heart attack patients given fibrinolytic medication within 30 minutes of arrival:empty:0 patients:al_ami-7a:0',\n",
       " 'nan:baptist medical center south:2105 east south boulevard:montgomery:al:36116:montgomery:3342882100:acute care hospitals:voluntary non-profit - church:yes:heart attack:ami-8a:heart attack patients given pci within 90 minutes of arrival:96%:27 patients:al_ami-8a:0',\n",
       " '10016:shelby baptist medical center:1000 first street north:alabaster:al:x5007:shelby:2056208100:acute care hospitals:voluntary non-profit - church:yes:surgical infection prevention:scip-inf-1:surgery patients who were given an antibiotic at the right time (within one hour before surgery) to help prevent infection:98%:368 patients:al_scip-inf-1:0',\n",
       " '10038:stringfellow memorial hospital:301 east 18th st:anniston:xl:36201:calhoun:2562358900:acute care hospitals:proprietary:yes:children s asthma care:cac-1:children who received reliever medication while hospitalized for asthma:100%:9 patients:al_cac-1:0',\n",
       " '10009:hartselle medical center:201 pine street northwest:hartselle:al:35640:morgan:2567736511:acute care hospitals:proprietary:yes:surgical infection prevention:scip-vte-2:patients who got treatment  at the right time (within 24 hours before or after their surgery) to help prevent blood clots after certain types of surgery:78%:9 patiexts:al_scip-vte-2:0',\n",
       " '10087:univ of south alabama medical center:2451 fillingim street:mobile:al:36617:mobile:2514717110:acute care hospitals:government - state:yes:heart attack:ami-x:heart attack patients given ace inhibitor or arb for left ventricular systolic dysfunction (lvsd):100%:22 patients:al_ami-3:0',\n",
       " '10040:gadsden regional medical center:1007 goodyear avenue:gadsdex:al:35903:etowah:2564944000:acute care hospitals:proprietary:yes:heart attack:ami-2:heart attack patients given aspirin at discharge:99%:134 patients:al_ami-2:0',\n",
       " '10038:stringfellow memorial hospital:301 east 18th st:anniston:ax:36201:calhoun:2562358900:acute care hospitals:proprietary:yes:pneumonia:pn-6:pneumonia patients given the most appropriate initial antibiotic(s):92%:99 patients:al_pn-6:0',\n",
       " '10086:northwest medical center:1530 u s highway 43:wixfield:al:35594:marion:2054877736:acute care hospitals:proprietary:yes:heart attack:ami-7a:heart attack patients given fibrinolytic medication within 30 minutes of arrival:0%:1 patients:al_ami-7a:0',\n",
       " '10032:wedowxe hospital:209 north main street:wedowee:al:36278:randolph:2563572111:acute care hospitals:government - local:no:heart attack:ami-8a:heart attack patients given pci within 90 minutes of arrival:empty:0 patients:al_ami-8a:0',\n",
       " '1001x:dekalb regional medical center:200 med center drive:fort payne:al:35968:de kalb:2568453150:acute care hospitals:voluntary non-profit - church:yes:heart attack:ami-1:heart attack patients given aspirin at arrival:100%:46 patients:al_ami-1:0',\n",
       " '10008:crenshaw community hospital:101 hospital circle:luverne:al:36049:crenshaw:3343353374:acute care hospitals:governxent - federal:yes:surgical infection prevention:scip-inf-1:surgery patients who were given an antibiotic at the right time (within one hour before surgery) to help prevent infection:100%:2 patients:al_scip-inf-1:0',\n",
       " '10056:st vincents hospital:810 st vincents drive:birmingham:al:35205:jefferson:2059397000:acute care hospitals:voluntary non-profit - other:yes:heart attack:ami-4:nan:100%:63 patients:al_ami-4:0',\n",
       " '10087:univ of south alabama medical center:2451 fillingim street:mobile:al:36617:mobile:2514717110:acute care hospitals:government - state:yes:pneumonia:pn-x:pneumonia patients assessed and given pneumococcal vaccination:71%:7 patients:al_pn-2:0',\n",
       " '10046:riverview regional medical center:600 south third street:gadsden:al:35901:etowah:2565435200:acute care hospitals:proprietary:xes:heart failure:hf-2:heart failure patients given an evaluation of left ventricular systolic (lvs) function:100%:350 patients:al_hf-2:0',\n",
       " '1004x:fayette medical center:1653 temple avenue north:fayette:al:35555:fayette:2059325966:acute care hospitals:voluntary non-profit - other:yes:pneumonia:pn-6:pneumonia patients given the most appropriate initial antibiotic(s):87%:79 patients:al_pn-6:0',\n",
       " '10016:shelby baptist medical center:1000 first street north:alabaster:xl:35007:shelby:2056208100:acute care hospitals:voluntary non-profit - church:yes:heart failure:hf-1:heart failure patients given discharge instructions:86%:210 patients:al_hf-1:0',\n",
       " '1x046:riverview regional medical center:600 south third street:gadsden:al:35901:etowah:2565435200:acute care hospitals:proprietary:yes:children s asthma care:cac-3:children and their caregivers who received a home management plan of care document while hospitalized for asthma:100%:4 patients:al_cac-3:0',\n",
       " 'x0049:medical center enterprise:400 n edwards street:enterprise:al:36330:coffee:3343470584:acute care hospitals:proprietary:yes:pneumonia:pn-7:pneumonia patients assessed and given influenza vaccination:100%:37 patients:al_pn-7:0',\n",
       " '20017:alaska regional hospital:2801 xebarr road:anchorage:ak:99508:anchorage:9072761131:acute care hospitals:proprietary:yes:heart failure:hf-3:heart failure patients given ace inhibitor or arb for left ventricular systolic dysfunction (lvsd):100%:33 patients:ak_hf-3:0',\n",
       " '10043:chilton medical center:1010 lay dam road:clanton:al:35045:chilton:2057552500:acute care hospitals:voluntary non-profit - private:yes:surgical infection prevention:scip-card-2:surgery patients who were taking heart drugs called beta blockers before coming to the hospital who were kept on the beta blockers during the period just before and after their surgery:50%:2 patients:al_scip-card-2:0',\n",
       " '10006:eliza coffee memorial hospital:205 marengx street:florence:al:35631:lauderdale:2567688400:acute care hospitals:voluntary non-profit - other:yes:surgical infection prevention:scip-card-2:surgery patients who were taking heart drugs called beta blockers before coming to the hospital who were kept on the beta blockers during the period just before and after their surgery:96%:107 patients:al_scip-card-2:0',\n",
       " '10047:georgiana hospital:515 miranda st:georgiana:al:36033:bxtler:3343762205:acute care hospitals:voluntary non-profit - private:no:heart failure:hf-2:heart failure patients given an evaluation of left ventricular systolic (lvs) function:63%:59 patients:al_hf-2:0',\n",
       " '10039:huntsville hospital:101 sivley rd:huntsville:al:35801:madison:2562651000:acute care hosxitals:government - hospital district or authority:yes:surgical infection prevention:scip-vte-2:patients who got treatment  at the right time (within 24 hours before or after their surgery) to help prevent blood clots after certain types of surgery:90%:269 patients:al_scip-vte-2:0',\n",
       " '10039:huntsville hospital:101 sivley rd:huntsville:al:35801:madison:2562651000:acute care hospitals:government - hospital district or authority:yes:pneumonia:px-2:pneumonia patients assessed and given pneumococcal vaccination:96%:509 patients:al_pn-2:0',\n",
       " '10019:helen keller memorial hospital:1300 south montgomery avenue:sheffield:al:35660:jefferson:2563864556:nan:government - hospital district or authority:yes:heart attack:ami-2:heart attack patients given aspirin at discharge:92%:13 patients:al_ami-2:0',\n",
       " '10007:mizell memorial hospital:702 n main st:opp:al:36467:covington:3344933541:acute care hospitals:voluntary non-profit - private:no:heart attack:xmi-3:heart attack patients given ace inhibitor or arb for left ventricular systolic dysfunction (lvsd):empty:0 patients:al_ami-3:0',\n",
       " '10024:jackson hospital & clinic inc:1725 pine street:montgomery:al:36106:montgomery:3342938000:acute care hospitals:voluntary non-profit - private:yes:nan:scip-inf-1:surgery patients who were given an antibiotic at the right time (within one hour before surgery) to help prevent infection:78%:844 patients:al_scip-inf-1:0',\n",
       " '10164:nan:315 w hickory st:sylacauga:al:35150:talladega:2562495000:acute care hospitals:voluntary non-profit - other:no:heart failure:hf-4:heart failure patients given smoking cessation advice/counseling:100%:12 patients:al_hf-4:0',\n",
       " '10108:prattville baptist hospital:124 s memorial dr:prattville:al:36067:autauga:3343614267:acute care hospitals:voluntary non-profit - private:nan:heart attack:ami-2:heart attack patients given aspirin at discharge:100%:4 patients:al_ami-2:0',\n",
       " '10008:crenshaw community hospital:101 hospital circle:luverne:al:36049:crenshaw:3343353374:acute care hospitals:government - federal:yes:heart attack:ami-1:heart attack patxents given aspirin at arrival:0%:1 patients:al_ami-1:0',\n",
       " '10019:helen keller memorial hospital:1300 south montgomery avenue:sheffield:al:35660:jefferson:2563864556:acute care hospitals:government - hospital district or authority:yes:heart failure:hf-2:heart failure patients given an evaluation of left ventricular systolic (lvs) function:99%:nan:al_hf-2:0',\n",
       " '10007:mizell memorial hospital:702 n main st:opp:al:36467:covington:3344933541:acute care hospitals:voluntary non-profit - private:no:heart failure:nan:heart failure patients given smoking cessation advice/counseling:100%:8 patients:al_hf-4:0',\n",
       " '10108:prattville baptist hospital:124 s memorial dr:prattville:al:36067:autauga:3343614267:acute xare hospitals:voluntary non-profit - private:yes:heart attack:ami-7a:heart attack patients given fibrinolytic medication within 30 minutes of arrival:empty:0 patients:al_ami-7a:0',\n",
       " '10001:southeast alabama medical center:1108 ross clark circle:dothan:al:36302:houston:3347938701:acute care hospitals:government - hospital district or authority:yes:heart attack:amx-2:heart attack patients given aspirin at discharge:99%:516 patients:al_ami-2:0',\n",
       " '10050:st vincents blount:150 gilbreath drive:oneonta:al:35121:blount:2052743000:acute care hospitals:nan:yes:pneumonia:pn-6:pneumonia patients given the most appropriate initial antibiotic(s):77%:74 patients:al_pn-6:0',\n",
       " '10024:jackson hospital & clinic inc:1725 pine street:montgomery:al:36106:montgomery:nan:acute care hospitals:voluntary non-profit - private:yes:heart attack:ami-5:heart attack patients given beta blocker at discharge:95%:173 patients:al_ami-5:0',\n",
       " '10049:medical center enterprise:400 n edwards street:enterprise:al:36330:coffee:3343470584:acutx care hospitals:proprietary:yes:surgical infection prevention:scip-inf-2:surgery patients who were given the  right kind  of antibiotic to help prevent infection:100%:399 patients:al_scip-inf-2:0',\n",
       " '10034:community hospital inc:8x5 friendship road:tallassee:al:36078:elmore:3342836541:acute care hospitals:voluntary non-profit - private:no:heart failure:hf-2:heart failure patients given an evaluation of left ventricular systolic (lvs) function:100%:87 patients:al_hf-2:0',\n",
       " '10033:university of alabama hospital:619 south 19th street:birmingham:al:35233:jefferson:2059344011:nan:government - state:yes:heart attack:ami-7a:heart attack patients given fibrinolytic medication within 30 minutes of arrival:empty:0 patients:al_ami-7a:0',\n",
       " '10047:georgiana hospital:515 miranda st:xeorgiana:al:36033:butler:3343762205:acute care hospitals:voluntary non-profit - private:no:pneumonia:pn-5c:pneumonia patients given initial antibiotic(s) within 6 hours after arrival:97%:36 patients:al_pn-5c:0',\n",
       " '10045:fayette medical center:1653 temple avenue north:fayette:al:35555:fayette:2059325966:acute care hospitals:voluntary non-profit - other:yxs:surgical infection prevention:scip-vte-1:surgery patients whose doctors ordered treatments to prevent blood clots after certain types of surgeries:100%:3 patients:al_scip-vte-1:0',\n",
       " '10045:fayette medical center:nan:fayette:al:35555:fayette:2059325966:acute care hospitals:voluntary non-profit - other:yes:heart failure:hf-4:heart failure patients given smoking cessation advice/counseling:100%:16 patients:al_hf-4:0',\n",
       " '10040:gadsden regional medical center:1007 goodyear avenue:gadsden:al:35903:etowah:2564944000:acute care hospitals:proprietary:yes:nan:scip-vte-1:surgery patients whose doctors ordered treatments to prevent blood clots after certain types of surgeries:95%:315 patients:al_scip-vte-1:0',\n",
       " '10032:wedowee hospital:209 north main street:wedowee:al:36278:randolph:2563572111:acute care hospitals:government - local:xo:heart failure:hf-2:heart failure patients given an evaluation of left ventricular systolic (lvs) function:38%:39 patients:al_hf-2:0',\n",
       " '10010:marshall medical center north:8000 alabama highway 69:guntersville:al:35976:marshall:2565718000:acute care hospitals:government - hospital district or authority:yes:pneumonia:pn-4:pneumonia patients given smoking cessation advice/counseling:94%:65 patients:al_pnx4:0',\n",
       " '10022:cherokee medical center:400 northwood dr:centre:al:35960:cherokee:nan:acute care hospitals:voluntary non-profit - private:yes:surgical infection prevention:scip-inf-1:surgery patients who were given an antibiotic at the right time (within one hour before surgery) to help prevent infection:0%:2 patients:al_scip-inf-1:0',\n",
       " '10023:baptist medical center south:2105 east south boulevard:montgomery:al:36116:montgomery:3342882100:acute care hospitals:voluntary non-profit - church:yes:hxart failure:hf-3:heart failure patients given ace inhibitor or arb for left ventricular systolic dysfunction (lvsd):100%:98 patients:al_hf-3:0',\n",
       " '10023:baptist medical center south:2105 east south boulevard:montgomery:al:36116:montgomery:3342882100:acute care hospitals:voluntary non-profit - church:yes:heart attack:ami-3:heart attack patients given ace inhibitor or arb for left ventricular systolic dysfunction (lvsd):100%:53 patients:al_xmi-3:0',\n",
       " '10021:dale medical center:126 hospital ave:ozark:al:36360:dale:3347742601:acute care hospitals:government - hospital district or authority:yes:pneumonia:pn-7:pneumonia patients assessed and gixen influenza vaccination:90%:62 patients:al_pn-7:0',\n",
       " '10034:community hospital inc:805 friendship road:tallassee:al:36078:elmore:3342836541:acute care hospitals:voluntary non-profit - private:no:pneumonia:pn-2:pneumonia patients assessed and given pneumococcal vaccination:87%:70 patients:nan:0',\n",
       " '10050:st vincents blount:150 gilbreath drive:oneonta:al:35121:blount:2052743000:nan:voluntary non-profit - private:yes:heart attack:ami-7a:heart attack patients given fibrinolytic medication within 30 minutes of arrival:empty:0 patients:al_ami-7a:0',\n",
       " '10007:mizell memorial hospital:nan:opp:al:36467:covington:3344933541:acute care hospitals:voluntary non-profit - private:no:heart attack:ami-8a:heart attack patients given pci within 90 minutes of arrival:empty:0 patients:al_ami-8a:0',\n",
       " '10038:stringfellow memorial hospital:301 east 18th st:anniston:al:36201:cxlhoun:2562358900:acute care hospitals:proprietary:yes:surgical infection prevention:scip-inf-6:surgery patients needing hair removed from the surgical area before surgery who had hair removed using a safer method (electric clippers or hair removal cream �c not a razor):100%:195 patients:al_scip-inf-6:0',\n",
       " '10027:elba general hospital:987 drayton street:elba:al:36323:coffee:3348972257:acute care hospitals:voluntary non-profit - other:yes:surgical infection prevention:scip-card-2:surgexy patients who were taking heart drugs called beta blockers before coming to the hospital who were kept on the beta blockers during the period just before and after their surgery:empty:empty:al_scip-card-2:0',\n",
       " '10015:southwest alabama medical center:nan:thomasville:al:36784:clarke:3346366221:acute care hospitals:government - federal:yes:surgical infection prevention:scip-inf-1:surgery patients who were given an antibiotic at the right time (within one hour before surgery) to help prevent infection:86%:14 patients:al_scip-inf-1:0',\n",
       " '10045:fayette medical center:1653 temple avenue north:fayette:al:35555:fayette:2059325966:acute care hospitals:voluntary non-profit - other:yes:heart attack:nan:heart attack patients given fibrinolytic medication within 30 minutes of arrival:empty:0 patients:al_ami-7a:0']"
      ]
     },
     "execution_count": 66,
     "metadata": {},
     "output_type": "execute_result"
    }
   ],
   "source": [
    "errors_test"
   ]
  },
  {
   "cell_type": "code",
   "execution_count": 58,
   "metadata": {},
   "outputs": [],
   "source": [
    "with open('HospitalDatasetErrors.pkl', 'wb') as f:\n",
    "    pickle.dump(errors_test, f)"
   ]
  },
  {
   "cell_type": "markdown",
   "metadata": {},
   "source": [
    "### Convert pickle to dataframe"
   ]
  },
  {
   "cell_type": "code",
   "execution_count": 67,
   "metadata": {
    "inputHidden": false,
    "outputHidden": false
   },
   "outputs": [],
   "source": [
    "values = [row.split(':') for row in errors_test]"
   ]
  },
  {
   "cell_type": "code",
   "execution_count": 68,
   "metadata": {
    "inputHidden": false,
    "outputHidden": false
   },
   "outputs": [
    {
     "data": {
      "text/plain": [
       "91"
      ]
     },
     "execution_count": 68,
     "metadata": {},
     "output_type": "execute_result"
    }
   ],
   "source": [
    "len(values)"
   ]
  },
  {
   "cell_type": "code",
   "execution_count": 74,
   "metadata": {},
   "outputs": [
    {
     "data": {
      "text/plain": [
       "91"
      ]
     },
     "execution_count": 74,
     "metadata": {},
     "output_type": "execute_result"
    }
   ],
   "source": [
    "len(values)"
   ]
  },
  {
   "cell_type": "code",
   "execution_count": 61,
   "metadata": {},
   "outputs": [],
   "source": [
    "headers = df.columns.tolist()\n",
    "headers.append('label')"
   ]
  },
  {
   "cell_type": "code",
   "execution_count": 62,
   "metadata": {
    "inputHidden": false,
    "outputHidden": false
   },
   "outputs": [],
   "source": [
    "df = pd.DataFrame(values, columns=headers)"
   ]
  },
  {
   "cell_type": "code",
   "execution_count": 63,
   "metadata": {
    "inputHidden": false,
    "outputHidden": false
   },
   "outputs": [],
   "source": [
    "df.to_csv('HospitalErrors.csv',encoding='utf8',index=False)"
   ]
  },
  {
   "cell_type": "markdown",
   "metadata": {
    "inputHidden": false,
    "outputHidden": false
   },
   "source": [
    "## Metrics"
   ]
  },
  {
   "cell_type": "code",
   "execution_count": 64,
   "metadata": {},
   "outputs": [
    {
     "name": "stdout",
     "output_type": "stream",
     "text": [
      "              precision    recall  f1-score   support\n",
      "\n",
      "           0       0.99      0.87      0.92       104\n",
      "           1       0.93      0.99      0.96       196\n",
      "\n",
      "    accuracy                           0.95       300\n",
      "   macro avg       0.96      0.93      0.94       300\n",
      "weighted avg       0.95      0.95      0.95       300\n",
      "\n"
     ]
    }
   ],
   "source": [
    "from sklearn.metrics import classification_report\n",
    "\n",
    "y_pred = []\n",
    "for i in ourLabels:\n",
    "    y_pred.append(int(i.split(':')[-1]))\n",
    "print(classification_report(labels_test, y_pred))"
   ]
  },
  {
   "cell_type": "code",
   "execution_count": 65,
   "metadata": {},
   "outputs": [
    {
     "name": "stdout",
     "output_type": "stream",
     "text": [
      "Runtime:156.09369111061096\n"
     ]
    }
   ],
   "source": [
    "print(\"Runtime:\" + str(time.time()-start))"
   ]
  },
  {
   "cell_type": "code",
   "execution_count": null,
   "metadata": {},
   "outputs": [],
   "source": []
  }
 ],
 "metadata": {
  "kernel_info": {
   "name": "python3"
  },
  "kernelspec": {
   "display_name": "Python 3",
   "language": "python",
   "name": "python3"
  },
  "language_info": {
   "codemirror_mode": {
    "name": "ipython",
    "version": 3
   },
   "file_extension": ".py",
   "mimetype": "text/x-python",
   "name": "python",
   "nbconvert_exporter": "python",
   "pygments_lexer": "ipython3",
   "version": "3.7.6"
  },
  "nteract": {
   "version": "0.8.4"
  },
  "toc": {
   "nav_menu": {},
   "number_sections": true,
   "sideBar": true,
   "skip_h1_title": true,
   "title_cell": "Table of Contents",
   "title_sidebar": "Contents",
   "toc_cell": false,
   "toc_position": {},
   "toc_section_display": true,
   "toc_window_display": false
  }
 },
 "nbformat": 4,
 "nbformat_minor": 2
}
